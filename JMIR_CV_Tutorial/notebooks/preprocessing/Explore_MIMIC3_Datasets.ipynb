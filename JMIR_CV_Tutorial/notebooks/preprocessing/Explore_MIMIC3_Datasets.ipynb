{
 "cells": [
  {
   "cell_type": "markdown",
   "id": "25c2790b",
   "metadata": {},
   "source": [
    "# Explore Mimic-III Datasets\n",
    "**contact:** drew.wilimitis@vumc.org"
   ]
  },
  {
   "cell_type": "markdown",
   "id": "46d451bd",
   "metadata": {},
   "source": [
    "## Import Libraries"
   ]
  },
  {
   "cell_type": "code",
   "execution_count": 1,
   "id": "447ffd40",
   "metadata": {
    "ExecuteTime": {
     "end_time": "2022-10-22T22:55:49.038709Z",
     "start_time": "2022-10-22T22:55:47.651340Z"
    }
   },
   "outputs": [],
   "source": [
    "# import libraries\n",
    "import sys\n",
    "import os\n",
    "import numpy as np\n",
    "import pandas as pd\n",
    "import matplotlib.pyplot as plt\n",
    "import seaborn as sns\n",
    "import json\n",
    "\n",
    "# set matplotlib style and plotting configuration\n",
    "plt.style.use('seaborn')\n",
    "%matplotlib inline\n",
    "\n",
    "# ignore warnings\n",
    "import warnings\n",
    "warnings.filterwarnings('ignore');\n",
    "\n",
    "# display multiple outputs within a cell\n",
    "from IPython.core.interactiveshell import InteractiveShell\n",
    "InteractiveShell.ast_node_interactivity = \"all\";\n",
    "\n",
    "# # load models for plotting and try new plotting format\n",
    "from jupyterthemes import jtplot\n",
    "jtplot.style(theme='monokai', context='notebook', ticks=True, grid=False)"
   ]
  },
  {
   "cell_type": "markdown",
   "id": "8eb42908",
   "metadata": {},
   "source": [
    "## Load Data"
   ]
  },
  {
   "cell_type": "code",
   "execution_count": 2,
   "id": "c2718a0d",
   "metadata": {
    "ExecuteTime": {
     "end_time": "2022-10-22T22:55:51.153579Z",
     "start_time": "2022-10-22T22:55:50.885237Z"
    }
   },
   "outputs": [
    {
     "ename": "FileNotFoundError",
     "evalue": "[Errno 2] No such file or directory: '/Users/drew/Desktop/github_repos/mimic3-benchmarks/data/root/'",
     "output_type": "error",
     "traceback": [
      "\u001b[0;31m---------------------------------------------------------------------------\u001b[0m",
      "\u001b[0;31mFileNotFoundError\u001b[0m                         Traceback (most recent call last)",
      "\u001b[0;32m/tmp/ipykernel_15987/1614345972.py\u001b[0m in \u001b[0;36m<module>\u001b[0;34m\u001b[0m\n\u001b[1;32m      2\u001b[0m \u001b[0minit_data_path\u001b[0m \u001b[0;34m=\u001b[0m \u001b[0;34m'/Users/drew/Desktop/Walsh_Lab/lab_projects/CV_Tutorial/Data/mimic-iii-clinical-database-1.4'\u001b[0m\u001b[0;34m\u001b[0m\u001b[0;34m\u001b[0m\u001b[0m\n\u001b[1;32m      3\u001b[0m \u001b[0mprocessed_data_path\u001b[0m \u001b[0;34m=\u001b[0m \u001b[0;34m'/Users/drew/Desktop/github_repos/mimic3-benchmarks/data/root/'\u001b[0m\u001b[0;34m\u001b[0m\u001b[0;34m\u001b[0m\u001b[0m\n\u001b[0;32m----> 4\u001b[0;31m \u001b[0msubject_folders\u001b[0m \u001b[0;34m=\u001b[0m \u001b[0mos\u001b[0m\u001b[0;34m.\u001b[0m\u001b[0mlistdir\u001b[0m\u001b[0;34m(\u001b[0m\u001b[0mprocessed_data_path\u001b[0m\u001b[0;34m)\u001b[0m\u001b[0;34m\u001b[0m\u001b[0;34m\u001b[0m\u001b[0m\n\u001b[0m\u001b[1;32m      5\u001b[0m \u001b[0mlen\u001b[0m\u001b[0;34m(\u001b[0m\u001b[0msubject_folders\u001b[0m\u001b[0;34m)\u001b[0m\u001b[0;34m\u001b[0m\u001b[0;34m\u001b[0m\u001b[0m\n\u001b[1;32m      6\u001b[0m \u001b[0mprocessed_dfs\u001b[0m \u001b[0;34m=\u001b[0m \u001b[0;34m[\u001b[0m\u001b[0mx\u001b[0m \u001b[0;32mfor\u001b[0m \u001b[0mx\u001b[0m \u001b[0;32min\u001b[0m \u001b[0msubject_folders\u001b[0m \u001b[0;32mif\u001b[0m \u001b[0;34m'.csv'\u001b[0m \u001b[0;32min\u001b[0m \u001b[0mx\u001b[0m\u001b[0;34m]\u001b[0m\u001b[0;34m\u001b[0m\u001b[0;34m\u001b[0m\u001b[0m\n",
      "\u001b[0;31mFileNotFoundError\u001b[0m: [Errno 2] No such file or directory: '/Users/drew/Desktop/github_repos/mimic3-benchmarks/data/root/'"
     ]
    }
   ],
   "source": [
    "# load subject level csv files (should have three csv files per subject)\n",
    "init_data_path = '/Users/drew/Desktop/Walsh_Lab/lab_projects/CV_Tutorial/Data/mimic-iii-clinical-database-1.4'\n",
    "processed_data_path = '/Users/drew/Desktop/github_repos/mimic3-benchmarks/data/root/'\n",
    "subject_folders = os.listdir(processed_data_path)\n",
    "len(subject_folders)\n",
    "processed_dfs = [x for x in subject_folders if '.csv' in x]\n",
    "for file in processed_dfs:\n",
    "    subject_folders.remove(file)\n",
    "len(subject_folders)\n",
    "n_subject_files = np.array([len(os.listdir(processed_data_path + subject)) for subject in subject_folders])\n",
    "len(n_subject_files)\n",
    "max(n_subject_files)\n",
    "min(n_subject_files)\n",
    "np.sum(n_subject_files==3)\n",
    "n_subject_files==3\n",
    "#subject_dfs\n",
    "#os.chdir('')\n",
    "missing_ids = np.argwhere(n_subject_files<3)\n",
    "missing_ids\n",
    "missing_subjects = [subject_folders[missing_ids[i][0]] for i in range(len(missing_ids))]\n",
    "for subject in missing_subjects:\n",
    "    print(os.listdir(processed_data_path + str(subject)))"
   ]
  },
  {
   "cell_type": "code",
   "execution_count": 26,
   "id": "35bb7af0",
   "metadata": {
    "ExecuteTime": {
     "end_time": "2022-09-21T19:27:30.301075Z",
     "start_time": "2022-09-21T19:27:29.986961Z"
    }
   },
   "outputs": [
    {
     "data": {
      "text/html": [
       "<div>\n",
       "<style scoped>\n",
       "    .dataframe tbody tr th:only-of-type {\n",
       "        vertical-align: middle;\n",
       "    }\n",
       "\n",
       "    .dataframe tbody tr th {\n",
       "        vertical-align: top;\n",
       "    }\n",
       "\n",
       "    .dataframe thead th {\n",
       "        text-align: right;\n",
       "    }\n",
       "</style>\n",
       "<table border=\"1\" class=\"dataframe\">\n",
       "  <thead>\n",
       "    <tr style=\"text-align: right;\">\n",
       "      <th></th>\n",
       "      <th>SUBJECT_ID</th>\n",
       "      <th>HADM_ID</th>\n",
       "      <th>ICUSTAY_ID</th>\n",
       "      <th>LAST_CAREUNIT</th>\n",
       "      <th>DBSOURCE</th>\n",
       "      <th>INTIME</th>\n",
       "      <th>OUTTIME</th>\n",
       "      <th>LOS</th>\n",
       "      <th>ADMITTIME</th>\n",
       "      <th>DISCHTIME</th>\n",
       "      <th>DEATHTIME</th>\n",
       "      <th>ETHNICITY</th>\n",
       "      <th>DIAGNOSIS</th>\n",
       "      <th>GENDER</th>\n",
       "      <th>DOB</th>\n",
       "      <th>DOD</th>\n",
       "      <th>AGE</th>\n",
       "      <th>MORTALITY_INUNIT</th>\n",
       "      <th>MORTALITY</th>\n",
       "      <th>MORTALITY_INHOSPITAL</th>\n",
       "    </tr>\n",
       "  </thead>\n",
       "  <tbody>\n",
       "    <tr>\n",
       "      <th>0</th>\n",
       "      <td>268</td>\n",
       "      <td>110404</td>\n",
       "      <td>280836</td>\n",
       "      <td>MICU</td>\n",
       "      <td>carevue</td>\n",
       "      <td>2198-02-14 23:27:38</td>\n",
       "      <td>2198-02-18 05:26:11</td>\n",
       "      <td>3.2490</td>\n",
       "      <td>2198-02-11 13:40:00</td>\n",
       "      <td>2198-02-18 03:55:00</td>\n",
       "      <td>2198-02-18 03:55:00</td>\n",
       "      <td>HISPANIC OR LATINO</td>\n",
       "      <td>DYSPNEA</td>\n",
       "      <td>F</td>\n",
       "      <td>2132-02-21 00:00:00</td>\n",
       "      <td>2198-02-18 00:00:00</td>\n",
       "      <td>65.982204</td>\n",
       "      <td>1</td>\n",
       "      <td>1</td>\n",
       "      <td>1</td>\n",
       "    </tr>\n",
       "    <tr>\n",
       "      <th>1</th>\n",
       "      <td>269</td>\n",
       "      <td>106296</td>\n",
       "      <td>206613</td>\n",
       "      <td>MICU</td>\n",
       "      <td>carevue</td>\n",
       "      <td>2170-11-05 11:05:29</td>\n",
       "      <td>2170-11-08 17:46:57</td>\n",
       "      <td>3.2788</td>\n",
       "      <td>2170-11-05 11:04:00</td>\n",
       "      <td>2170-11-27 18:00:00</td>\n",
       "      <td>NaN</td>\n",
       "      <td>WHITE</td>\n",
       "      <td>SEPSIS;PILONIDAL ABSCESS</td>\n",
       "      <td>M</td>\n",
       "      <td>2130-09-30 00:00:00</td>\n",
       "      <td>NaN</td>\n",
       "      <td>40.098563</td>\n",
       "      <td>0</td>\n",
       "      <td>0</td>\n",
       "      <td>0</td>\n",
       "    </tr>\n",
       "    <tr>\n",
       "      <th>2</th>\n",
       "      <td>270</td>\n",
       "      <td>188028</td>\n",
       "      <td>220345</td>\n",
       "      <td>CCU</td>\n",
       "      <td>carevue</td>\n",
       "      <td>2128-06-24 15:05:20</td>\n",
       "      <td>2128-06-27 12:32:29</td>\n",
       "      <td>2.8939</td>\n",
       "      <td>2128-06-23 18:26:00</td>\n",
       "      <td>2128-06-27 12:31:00</td>\n",
       "      <td>NaN</td>\n",
       "      <td>UNKNOWN/NOT SPECIFIED</td>\n",
       "      <td>CAROTID STENOSIS\\CAROTID ANGIOGRAM AND STENT</td>\n",
       "      <td>M</td>\n",
       "      <td>2048-05-26 00:00:00</td>\n",
       "      <td>NaN</td>\n",
       "      <td>80.076660</td>\n",
       "      <td>0</td>\n",
       "      <td>0</td>\n",
       "      <td>0</td>\n",
       "    </tr>\n",
       "    <tr>\n",
       "      <th>3</th>\n",
       "      <td>272</td>\n",
       "      <td>164716</td>\n",
       "      <td>210407</td>\n",
       "      <td>CCU</td>\n",
       "      <td>carevue</td>\n",
       "      <td>2186-12-25 21:08:04</td>\n",
       "      <td>2186-12-27 12:01:13</td>\n",
       "      <td>1.6202</td>\n",
       "      <td>2186-12-25 21:06:00</td>\n",
       "      <td>2187-01-02 14:57:00</td>\n",
       "      <td>NaN</td>\n",
       "      <td>WHITE</td>\n",
       "      <td>PULMONARY EMBOLIS</td>\n",
       "      <td>M</td>\n",
       "      <td>2119-11-21 00:00:00</td>\n",
       "      <td>NaN</td>\n",
       "      <td>67.093771</td>\n",
       "      <td>0</td>\n",
       "      <td>0</td>\n",
       "      <td>0</td>\n",
       "    </tr>\n",
       "    <tr>\n",
       "      <th>4</th>\n",
       "      <td>273</td>\n",
       "      <td>158689</td>\n",
       "      <td>241507</td>\n",
       "      <td>MICU</td>\n",
       "      <td>carevue</td>\n",
       "      <td>2141-04-19 06:12:05</td>\n",
       "      <td>2141-04-20 17:52:11</td>\n",
       "      <td>1.4862</td>\n",
       "      <td>2141-04-19 06:11:00</td>\n",
       "      <td>2141-04-20 17:00:00</td>\n",
       "      <td>NaN</td>\n",
       "      <td>BLACK/AFRICAN AMERICAN</td>\n",
       "      <td>POLYSUBSTANCE OVERDOSE</td>\n",
       "      <td>M</td>\n",
       "      <td>2107-08-10 00:00:00</td>\n",
       "      <td>NaN</td>\n",
       "      <td>33.691992</td>\n",
       "      <td>0</td>\n",
       "      <td>0</td>\n",
       "      <td>0</td>\n",
       "    </tr>\n",
       "  </tbody>\n",
       "</table>\n",
       "</div>"
      ],
      "text/plain": [
       "   SUBJECT_ID  HADM_ID  ICUSTAY_ID LAST_CAREUNIT DBSOURCE  \\\n",
       "0         268   110404      280836          MICU  carevue   \n",
       "1         269   106296      206613          MICU  carevue   \n",
       "2         270   188028      220345           CCU  carevue   \n",
       "3         272   164716      210407           CCU  carevue   \n",
       "4         273   158689      241507          MICU  carevue   \n",
       "\n",
       "                INTIME              OUTTIME     LOS            ADMITTIME  \\\n",
       "0  2198-02-14 23:27:38  2198-02-18 05:26:11  3.2490  2198-02-11 13:40:00   \n",
       "1  2170-11-05 11:05:29  2170-11-08 17:46:57  3.2788  2170-11-05 11:04:00   \n",
       "2  2128-06-24 15:05:20  2128-06-27 12:32:29  2.8939  2128-06-23 18:26:00   \n",
       "3  2186-12-25 21:08:04  2186-12-27 12:01:13  1.6202  2186-12-25 21:06:00   \n",
       "4  2141-04-19 06:12:05  2141-04-20 17:52:11  1.4862  2141-04-19 06:11:00   \n",
       "\n",
       "             DISCHTIME            DEATHTIME               ETHNICITY  \\\n",
       "0  2198-02-18 03:55:00  2198-02-18 03:55:00      HISPANIC OR LATINO   \n",
       "1  2170-11-27 18:00:00                  NaN                   WHITE   \n",
       "2  2128-06-27 12:31:00                  NaN   UNKNOWN/NOT SPECIFIED   \n",
       "3  2187-01-02 14:57:00                  NaN                   WHITE   \n",
       "4  2141-04-20 17:00:00                  NaN  BLACK/AFRICAN AMERICAN   \n",
       "\n",
       "                                      DIAGNOSIS GENDER                  DOB  \\\n",
       "0                                       DYSPNEA      F  2132-02-21 00:00:00   \n",
       "1                      SEPSIS;PILONIDAL ABSCESS      M  2130-09-30 00:00:00   \n",
       "2  CAROTID STENOSIS\\CAROTID ANGIOGRAM AND STENT      M  2048-05-26 00:00:00   \n",
       "3                             PULMONARY EMBOLIS      M  2119-11-21 00:00:00   \n",
       "4                        POLYSUBSTANCE OVERDOSE      M  2107-08-10 00:00:00   \n",
       "\n",
       "                   DOD        AGE  MORTALITY_INUNIT  MORTALITY  \\\n",
       "0  2198-02-18 00:00:00  65.982204                 1          1   \n",
       "1                  NaN  40.098563                 0          0   \n",
       "2                  NaN  80.076660                 0          0   \n",
       "3                  NaN  67.093771                 0          0   \n",
       "4                  NaN  33.691992                 0          0   \n",
       "\n",
       "   MORTALITY_INHOSPITAL  \n",
       "0                     1  \n",
       "1                     0  \n",
       "2                     0  \n",
       "3                     0  \n",
       "4                     0  "
      ]
     },
     "execution_count": 26,
     "metadata": {},
     "output_type": "execute_result"
    },
    {
     "data": {
      "text/plain": [
       "(42276, 20)"
      ]
     },
     "execution_count": 26,
     "metadata": {},
     "output_type": "execute_result"
    },
    {
     "data": {
      "text/plain": [
       "33798"
      ]
     },
     "execution_count": 26,
     "metadata": {},
     "output_type": "execute_result"
    },
    {
     "data": {
      "text/plain": [
       "42276"
      ]
     },
     "execution_count": 26,
     "metadata": {},
     "output_type": "execute_result"
    },
    {
     "data": {
      "text/plain": [
       "42276"
      ]
     },
     "execution_count": 26,
     "metadata": {},
     "output_type": "execute_result"
    },
    {
     "data": {
      "text/plain": [
       "SUBJECT_ID                  0\n",
       "HADM_ID                     0\n",
       "ICUSTAY_ID                  0\n",
       "LAST_CAREUNIT               0\n",
       "DBSOURCE                    0\n",
       "INTIME                      0\n",
       "OUTTIME                     3\n",
       "LOS                         3\n",
       "ADMITTIME                   0\n",
       "DISCHTIME                   0\n",
       "DEATHTIME               37753\n",
       "ETHNICITY                   0\n",
       "DIAGNOSIS                   1\n",
       "GENDER                      0\n",
       "DOB                         0\n",
       "DOD                     24073\n",
       "AGE                         0\n",
       "MORTALITY_INUNIT            0\n",
       "MORTALITY                   0\n",
       "MORTALITY_INHOSPITAL        0\n",
       "dtype: int64"
      ]
     },
     "execution_count": 26,
     "metadata": {},
     "output_type": "execute_result"
    },
    {
     "data": {
      "text/plain": [
       "0"
      ]
     },
     "execution_count": 26,
     "metadata": {},
     "output_type": "execute_result"
    }
   ],
   "source": [
    "# examine stay dataframe\n",
    "stay_df = pd.read_csv(processed_data_path + 'all_stays.csv')\n",
    "stay_df.head()\n",
    "stay_df.shape\n",
    "stay_df.SUBJECT_ID.nunique()\n",
    "stay_df.HADM_ID.nunique()\n",
    "stay_df.ICUSTAY_ID.nunique()\n",
    "stay_df.isna().sum()\n",
    "stay_df.duplicated().sum()"
   ]
  },
  {
   "cell_type": "markdown",
   "id": "81221131",
   "metadata": {},
   "source": [
    "**Describe outcome prevalence and feature values**"
   ]
  },
  {
   "cell_type": "code",
   "execution_count": 27,
   "id": "4e62da70",
   "metadata": {
    "ExecuteTime": {
     "end_time": "2022-09-21T19:27:30.399231Z",
     "start_time": "2022-09-21T19:27:30.304055Z"
    }
   },
   "outputs": [
    {
     "data": {
      "text/plain": [
       "count    33798.000000\n",
       "mean         1.250843\n",
       "std          0.856571\n",
       "min          1.000000\n",
       "25%          1.000000\n",
       "50%          1.000000\n",
       "75%          1.000000\n",
       "max         37.000000\n",
       "Name: HADM_ID, dtype: float64"
      ]
     },
     "execution_count": 27,
     "metadata": {},
     "output_type": "execute_result"
    },
    {
     "data": {
      "text/plain": [
       "count    33798.000000\n",
       "mean         1.250843\n",
       "std          0.856571\n",
       "min          1.000000\n",
       "25%          1.000000\n",
       "50%          1.000000\n",
       "75%          1.000000\n",
       "max         37.000000\n",
       "Name: ICUSTAY_ID, dtype: float64"
      ]
     },
     "execution_count": 27,
     "metadata": {},
     "output_type": "execute_result"
    },
    {
     "data": {
      "text/plain": [
       "count    42276.0\n",
       "mean         1.0\n",
       "std          0.0\n",
       "min          1.0\n",
       "25%          1.0\n",
       "50%          1.0\n",
       "75%          1.0\n",
       "max          1.0\n",
       "Name: ICUSTAY_ID, dtype: float64"
      ]
     },
     "execution_count": 27,
     "metadata": {},
     "output_type": "execute_result"
    },
    {
     "data": {
      "text/plain": [
       "MICU     17233\n",
       "CSRU      7152\n",
       "SICU      6858\n",
       "CCU       6004\n",
       "TSICU     5029\n",
       "Name: LAST_CAREUNIT, dtype: int64"
      ]
     },
     "execution_count": 27,
     "metadata": {},
     "output_type": "execute_result"
    },
    {
     "data": {
      "text/plain": [
       "carevue       23476\n",
       "metavision    18739\n",
       "both             61\n",
       "Name: DBSOURCE, dtype: int64"
      ]
     },
     "execution_count": 27,
     "metadata": {},
     "output_type": "execute_result"
    },
    {
     "data": {
      "text/plain": [
       "count    42276.000000\n",
       "mean        74.944217\n",
       "std         55.767799\n",
       "min         18.020534\n",
       "25%         52.399042\n",
       "50%         65.478439\n",
       "75%         77.801506\n",
       "max        310.272416\n",
       "Name: AGE, dtype: float64"
      ]
     },
     "execution_count": 27,
     "metadata": {},
     "output_type": "execute_result"
    },
    {
     "data": {
      "text/plain": [
       "M    23625\n",
       "F    18651\n",
       "Name: GENDER, dtype: int64"
      ]
     },
     "execution_count": 27,
     "metadata": {},
     "output_type": "execute_result"
    },
    {
     "data": {
      "text/plain": [
       "M    0.558828\n",
       "F    0.441172\n",
       "Name: GENDER, dtype: float64"
      ]
     },
     "execution_count": 27,
     "metadata": {},
     "output_type": "execute_result"
    },
    {
     "data": {
      "text/plain": [
       "WHITE                                                       29895\n",
       "BLACK/AFRICAN AMERICAN                                       3807\n",
       "UNKNOWN/NOT SPECIFIED                                        3376\n",
       "HISPANIC OR LATINO                                           1128\n",
       "OTHER                                                         948\n",
       "UNABLE TO OBTAIN                                              629\n",
       "ASIAN                                                         628\n",
       "PATIENT DECLINED TO ANSWER                                    387\n",
       "ASIAN - CHINESE                                               203\n",
       "HISPANIC/LATINO - PUERTO RICAN                                193\n",
       "BLACK/CAPE VERDEAN                                            151\n",
       "WHITE - RUSSIAN                                               141\n",
       "BLACK/HAITIAN                                                  88\n",
       "MULTI RACE ETHNICITY                                           84\n",
       "WHITE - OTHER EUROPEAN                                         65\n",
       "ASIAN - ASIAN INDIAN                                           63\n",
       "HISPANIC/LATINO - DOMINICAN                                    63\n",
       "PORTUGUESE                                                     49\n",
       "ASIAN - VIETNAMESE                                             42\n",
       "WHITE - BRAZILIAN                                              41\n",
       "BLACK/AFRICAN                                                  36\n",
       "MIDDLE EASTERN                                                 33\n",
       "HISPANIC/LATINO - GUATEMALAN                                   31\n",
       "ASIAN - FILIPINO                                               21\n",
       "WHITE - EASTERN EUROPEAN                                       21\n",
       "HISPANIC/LATINO - CUBAN                                        19\n",
       "AMERICAN INDIAN/ALASKA NATIVE                                  17\n",
       "HISPANIC/LATINO - SALVADORAN                                   15\n",
       "ASIAN - CAMBODIAN                                              14\n",
       "NATIVE HAWAIIAN OR OTHER PACIFIC ISLANDER                      14\n",
       "HISPANIC/LATINO - CENTRAL AMERICAN (OTHER)                     10\n",
       "HISPANIC/LATINO - MEXICAN                                      10\n",
       "CARIBBEAN ISLAND                                                9\n",
       "ASIAN - OTHER                                                   9\n",
       "ASIAN - KOREAN                                                  9\n",
       "HISPANIC/LATINO - COLOMBIAN                                     6\n",
       "ASIAN - JAPANESE                                                6\n",
       "SOUTH AMERICAN                                                  5\n",
       "ASIAN - THAI                                                    4\n",
       "HISPANIC/LATINO - HONDURAN                                      3\n",
       "AMERICAN INDIAN/ALASKA NATIVE FEDERALLY RECOGNIZED TRIBE        3\n",
       "Name: ETHNICITY, dtype: int64"
      ]
     },
     "execution_count": 27,
     "metadata": {},
     "output_type": "execute_result"
    },
    {
     "data": {
      "text/plain": [
       "WHITE                                                       0.707139\n",
       "BLACK/AFRICAN AMERICAN                                      0.090051\n",
       "UNKNOWN/NOT SPECIFIED                                       0.079856\n",
       "HISPANIC OR LATINO                                          0.026682\n",
       "OTHER                                                       0.022424\n",
       "UNABLE TO OBTAIN                                            0.014878\n",
       "ASIAN                                                       0.014855\n",
       "PATIENT DECLINED TO ANSWER                                  0.009154\n",
       "ASIAN - CHINESE                                             0.004802\n",
       "HISPANIC/LATINO - PUERTO RICAN                              0.004565\n",
       "BLACK/CAPE VERDEAN                                          0.003572\n",
       "WHITE - RUSSIAN                                             0.003335\n",
       "BLACK/HAITIAN                                               0.002082\n",
       "MULTI RACE ETHNICITY                                        0.001987\n",
       "WHITE - OTHER EUROPEAN                                      0.001538\n",
       "ASIAN - ASIAN INDIAN                                        0.001490\n",
       "HISPANIC/LATINO - DOMINICAN                                 0.001490\n",
       "PORTUGUESE                                                  0.001159\n",
       "ASIAN - VIETNAMESE                                          0.000993\n",
       "WHITE - BRAZILIAN                                           0.000970\n",
       "BLACK/AFRICAN                                               0.000852\n",
       "MIDDLE EASTERN                                              0.000781\n",
       "HISPANIC/LATINO - GUATEMALAN                                0.000733\n",
       "ASIAN - FILIPINO                                            0.000497\n",
       "WHITE - EASTERN EUROPEAN                                    0.000497\n",
       "HISPANIC/LATINO - CUBAN                                     0.000449\n",
       "AMERICAN INDIAN/ALASKA NATIVE                               0.000402\n",
       "HISPANIC/LATINO - SALVADORAN                                0.000355\n",
       "ASIAN - CAMBODIAN                                           0.000331\n",
       "NATIVE HAWAIIAN OR OTHER PACIFIC ISLANDER                   0.000331\n",
       "HISPANIC/LATINO - CENTRAL AMERICAN (OTHER)                  0.000237\n",
       "HISPANIC/LATINO - MEXICAN                                   0.000237\n",
       "CARIBBEAN ISLAND                                            0.000213\n",
       "ASIAN - OTHER                                               0.000213\n",
       "ASIAN - KOREAN                                              0.000213\n",
       "HISPANIC/LATINO - COLOMBIAN                                 0.000142\n",
       "ASIAN - JAPANESE                                            0.000142\n",
       "SOUTH AMERICAN                                              0.000118\n",
       "ASIAN - THAI                                                0.000095\n",
       "HISPANIC/LATINO - HONDURAN                                  0.000071\n",
       "AMERICAN INDIAN/ALASKA NATIVE FEDERALLY RECOGNIZED TRIBE    0.000071\n",
       "Name: ETHNICITY, dtype: float64"
      ]
     },
     "execution_count": 27,
     "metadata": {},
     "output_type": "execute_result"
    }
   ],
   "source": [
    "# stay counts by subject\n",
    "stay_df.groupby('SUBJECT_ID')['HADM_ID'].nunique().describe()\n",
    "stay_df.groupby('SUBJECT_ID')['ICUSTAY_ID'].nunique().describe()\n",
    "stay_df.groupby(['SUBJECT_ID', 'HADM_ID'])['ICUSTAY_ID'].nunique().describe()\n",
    "stay_df.LAST_CAREUNIT.value_counts()\n",
    "stay_df.DBSOURCE.value_counts()\n",
    "\n",
    "# demographics of cohort\n",
    "stay_df.AGE.describe()\n",
    "stay_df.GENDER.value_counts()\n",
    "stay_df.GENDER.value_counts() / len(stay_df)\n",
    "stay_df.ETHNICITY.value_counts()\n",
    "stay_df.ETHNICITY.value_counts() / len(stay_df)"
   ]
  },
  {
   "cell_type": "code",
   "execution_count": 28,
   "id": "eb7aa3b0",
   "metadata": {
    "ExecuteTime": {
     "end_time": "2022-09-21T19:27:30.407590Z",
     "start_time": "2022-09-21T19:27:30.401084Z"
    }
   },
   "outputs": [],
   "source": [
    "# define grouped demographic features\n",
    "stay_df.loc[(stay_df.AGE > 100), 'AGE'] = 100\n",
    "stay_df['RACE'] = 'White'\n",
    "#stay_df['RACE'] = stay_df.ETHNICITY.apply(lambda x: )"
   ]
  },
  {
   "cell_type": "code",
   "execution_count": 29,
   "id": "4043080e",
   "metadata": {
    "ExecuteTime": {
     "end_time": "2022-09-21T19:27:30.656892Z",
     "start_time": "2022-09-21T19:27:30.408936Z"
    }
   },
   "outputs": [
    {
     "data": {
      "text/plain": [
       "count    42273.000000\n",
       "mean         3.607728\n",
       "std          5.192107\n",
       "min          0.000200\n",
       "25%          1.151900\n",
       "50%          2.007200\n",
       "75%          3.736300\n",
       "max        116.832700\n",
       "Name: LOS, dtype: float64"
      ]
     },
     "execution_count": 29,
     "metadata": {},
     "output_type": "execute_result"
    },
    {
     "data": {
      "text/plain": [
       "<AxesSubplot:xlabel='LOS', ylabel='Density'>"
      ]
     },
     "execution_count": 29,
     "metadata": {},
     "output_type": "execute_result"
    },
    {
     "data": {
      "image/png": "[encoded data removed]",
      "text/plain": [
       "<Figure size 432x288 with 1 Axes>"
      ]
     },
     "metadata": {
      "needs_background": "light"
     },
     "output_type": "display_data"
    }
   ],
   "source": [
    "# length of stay outcome (regression)\n",
    "stay_df.LOS.describe()\n",
    "sns.distplot(stay_df.LOS, label='Length of Stay')"
   ]
  },
  {
   "cell_type": "code",
   "execution_count": 30,
   "id": "3ca89a02",
   "metadata": {
    "ExecuteTime": {
     "end_time": "2022-09-21T19:27:30.706474Z",
     "start_time": "2022-09-21T19:27:30.658598Z"
    }
   },
   "outputs": [
    {
     "data": {
      "text/plain": [
       "0    37783\n",
       "1     4493\n",
       "Name: MORTALITY, dtype: int64"
      ]
     },
     "execution_count": 30,
     "metadata": {},
     "output_type": "execute_result"
    },
    {
     "data": {
      "text/plain": [
       "0    37783\n",
       "1     4493\n",
       "Name: MORTALITY_INHOSPITAL, dtype: int64"
      ]
     },
     "execution_count": 30,
     "metadata": {},
     "output_type": "execute_result"
    },
    {
     "data": {
      "text/plain": [
       "0    38697\n",
       "1     3579\n",
       "Name: MORTALITY_INUNIT, dtype: int64"
      ]
     },
     "execution_count": 30,
     "metadata": {},
     "output_type": "execute_result"
    },
    {
     "data": {
      "text/plain": [
       "MORTALITY               0.106278\n",
       "MORTALITY_INHOSPITAL    0.106278\n",
       "MORTALITY_INUNIT        0.084658\n",
       "dtype: float64"
      ]
     },
     "execution_count": 30,
     "metadata": {},
     "output_type": "execute_result"
    },
    {
     "data": {
      "text/plain": [
       "ETHNICITY\n",
       "AMERICAN INDIAN/ALASKA NATIVE                               0.058824\n",
       "AMERICAN INDIAN/ALASKA NATIVE FEDERALLY RECOGNIZED TRIBE    0.333333\n",
       "ASIAN                                                       0.128981\n",
       "ASIAN - ASIAN INDIAN                                        0.047619\n",
       "ASIAN - CAMBODIAN                                           0.214286\n",
       "ASIAN - CHINESE                                             0.118227\n",
       "ASIAN - FILIPINO                                            0.095238\n",
       "ASIAN - JAPANESE                                            0.333333\n",
       "ASIAN - KOREAN                                              0.111111\n",
       "ASIAN - OTHER                                               0.222222\n",
       "ASIAN - THAI                                                0.000000\n",
       "ASIAN - VIETNAMESE                                          0.142857\n",
       "BLACK/AFRICAN                                               0.083333\n",
       "BLACK/AFRICAN AMERICAN                                      0.075650\n",
       "BLACK/CAPE VERDEAN                                          0.046358\n",
       "BLACK/HAITIAN                                               0.079545\n",
       "CARIBBEAN ISLAND                                            0.000000\n",
       "HISPANIC OR LATINO                                          0.065603\n",
       "HISPANIC/LATINO - CENTRAL AMERICAN (OTHER)                  0.000000\n",
       "HISPANIC/LATINO - COLOMBIAN                                 0.000000\n",
       "HISPANIC/LATINO - CUBAN                                     0.000000\n",
       "HISPANIC/LATINO - DOMINICAN                                 0.047619\n",
       "HISPANIC/LATINO - GUATEMALAN                                0.000000\n",
       "HISPANIC/LATINO - HONDURAN                                  0.000000\n",
       "HISPANIC/LATINO - MEXICAN                                   0.000000\n",
       "HISPANIC/LATINO - PUERTO RICAN                              0.041451\n",
       "HISPANIC/LATINO - SALVADORAN                                0.000000\n",
       "MIDDLE EASTERN                                              0.060606\n",
       "MULTI RACE ETHNICITY                                        0.095238\n",
       "NATIVE HAWAIIAN OR OTHER PACIFIC ISLANDER                   0.285714\n",
       "OTHER                                                       0.101266\n",
       "PATIENT DECLINED TO ANSWER                                  0.080103\n",
       "PORTUGUESE                                                  0.040816\n",
       "SOUTH AMERICAN                                              0.000000\n",
       "UNABLE TO OBTAIN                                            0.179650\n",
       "UNKNOWN/NOT SPECIFIED                                       0.170024\n",
       "WHITE                                                       0.104399\n",
       "WHITE - BRAZILIAN                                           0.000000\n",
       "WHITE - EASTERN EUROPEAN                                    0.095238\n",
       "WHITE - OTHER EUROPEAN                                      0.092308\n",
       "WHITE - RUSSIAN                                             0.127660\n",
       "Name: MORTALITY, dtype: float64"
      ]
     },
     "execution_count": 30,
     "metadata": {},
     "output_type": "execute_result"
    },
    {
     "data": {
      "text/plain": [
       "GENDER\n",
       "F    0.113613\n",
       "M    0.100487\n",
       "Name: MORTALITY, dtype: float64"
      ]
     },
     "execution_count": 30,
     "metadata": {},
     "output_type": "execute_result"
    },
    {
     "data": {
      "text/plain": [
       "LAST_CAREUNIT\n",
       "CCU      0.106262\n",
       "CSRU     0.033138\n",
       "MICU     0.132594\n",
       "SICU     0.119568\n",
       "TSICU    0.102008\n",
       "Name: MORTALITY, dtype: float64"
      ]
     },
     "execution_count": 30,
     "metadata": {},
     "output_type": "execute_result"
    }
   ],
   "source": [
    "# mortality outcome (classification)\n",
    "stay_df.MORTALITY.value_counts()\n",
    "stay_df.MORTALITY_INHOSPITAL.value_counts()\n",
    "stay_df.MORTALITY_INUNIT.value_counts()\n",
    "\n",
    "stay_df[['MORTALITY', 'MORTALITY_INHOSPITAL', 'MORTALITY_INUNIT']].mean()\n",
    "\n",
    "stay_df.groupby('ETHNICITY')['MORTALITY'].mean()\n",
    "stay_df.groupby('GENDER')['MORTALITY'].mean()\n",
    "stay_df.groupby('LAST_CAREUNIT')['MORTALITY'].mean()"
   ]
  },
  {
   "cell_type": "code",
   "execution_count": 31,
   "id": "fcde1ef0",
   "metadata": {
    "ExecuteTime": {
     "end_time": "2022-09-21T19:27:31.101739Z",
     "start_time": "2022-09-21T19:27:30.708029Z"
    }
   },
   "outputs": [
    {
     "data": {
      "text/plain": [
       "<AxesSubplot:xlabel='AGE', ylabel='Density'>"
      ]
     },
     "execution_count": 31,
     "metadata": {},
     "output_type": "execute_result"
    },
    {
     "data": {
      "text/plain": [
       "<AxesSubplot:xlabel='AGE', ylabel='Density'>"
      ]
     },
     "execution_count": 31,
     "metadata": {},
     "output_type": "execute_result"
    },
    {
     "data": {
      "image/png": "[encoded data removed]",
      "text/plain": [
       "<Figure size 432x288 with 1 Axes>"
      ]
     },
     "metadata": {
      "needs_background": "light"
     },
     "output_type": "display_data"
    }
   ],
   "source": [
    "sns.distplot(stay_df[stay_df.MORTALITY==0]['AGE'], label='Control')\n",
    "sns.distplot(stay_df[stay_df.MORTALITY==1]['AGE'], label='Deceased')"
   ]
  },
  {
   "cell_type": "markdown",
   "id": "cdfaf32a",
   "metadata": {},
   "source": [
    "## In Hospital Mortality"
   ]
  },
  {
   "cell_type": "code",
   "execution_count": 40,
   "id": "758b491b",
   "metadata": {
    "ExecuteTime": {
     "end_time": "2022-09-21T19:32:44.100660Z",
     "start_time": "2022-09-21T19:32:44.032879Z"
    }
   },
   "outputs": [
    {
     "data": {
      "text/plain": [
       "'/Users/drew/Desktop/Walsh_Lab/lab_projects/CV_Tutorial/JMIR_CV_Tutorial/notebooks/Mimic_Exploration/original_version'"
      ]
     },
     "execution_count": 40,
     "metadata": {},
     "output_type": "execute_result"
    },
    {
     "name": "stdout",
     "output_type": "stream",
     "text": [
      "/Users/drew/Desktop/Walsh_Lab/lab_projects/CV_Tutorial/mimic3-Original/data/in-hospital-mortality/train/74679_episode1_timeseries.csv\n",
      "/Users/drew/Desktop/Walsh_Lab/lab_projects/CV_Tutorial/mimic3-Original/data/in-hospital-mortality/train/32493_episode1_timeseries.csv\n",
      "/Users/drew/Desktop/Walsh_Lab/lab_projects/CV_Tutorial/mimic3-Original/data/in-hospital-mortality/train/53459_episode1_timeseries.csv\n",
      "/Users/drew/Desktop/Walsh_Lab/lab_projects/CV_Tutorial/mimic3-Original/data/in-hospital-mortality/train/47786_episode1_timeseries.csv\n"
     ]
    },
    {
     "data": {
      "text/html": [
       "<div>\n",
       "<style scoped>\n",
       "    .dataframe tbody tr th:only-of-type {\n",
       "        vertical-align: middle;\n",
       "    }\n",
       "\n",
       "    .dataframe tbody tr th {\n",
       "        vertical-align: top;\n",
       "    }\n",
       "\n",
       "    .dataframe thead th {\n",
       "        text-align: right;\n",
       "    }\n",
       "</style>\n",
       "<table border=\"1\" class=\"dataframe\">\n",
       "  <thead>\n",
       "    <tr style=\"text-align: right;\">\n",
       "      <th></th>\n",
       "      <th>Hours</th>\n",
       "      <th>Capillary refill rate</th>\n",
       "      <th>Diastolic blood pressure</th>\n",
       "      <th>Fraction inspired oxygen</th>\n",
       "      <th>Glascow coma scale eye opening</th>\n",
       "      <th>Glascow coma scale motor response</th>\n",
       "      <th>Glascow coma scale total</th>\n",
       "      <th>Glascow coma scale verbal response</th>\n",
       "      <th>Glucose</th>\n",
       "      <th>Heart Rate</th>\n",
       "      <th>Height</th>\n",
       "      <th>Mean blood pressure</th>\n",
       "      <th>Oxygen saturation</th>\n",
       "      <th>Respiratory rate</th>\n",
       "      <th>Systolic blood pressure</th>\n",
       "      <th>Temperature</th>\n",
       "      <th>Weight</th>\n",
       "      <th>pH</th>\n",
       "    </tr>\n",
       "  </thead>\n",
       "  <tbody>\n",
       "    <tr>\n",
       "      <th>0</th>\n",
       "      <td>0.865556</td>\n",
       "      <td>NaN</td>\n",
       "      <td>NaN</td>\n",
       "      <td>NaN</td>\n",
       "      <td>NaN</td>\n",
       "      <td>NaN</td>\n",
       "      <td>NaN</td>\n",
       "      <td>NaN</td>\n",
       "      <td>255.0</td>\n",
       "      <td>NaN</td>\n",
       "      <td>NaN</td>\n",
       "      <td>NaN</td>\n",
       "      <td>NaN</td>\n",
       "      <td>NaN</td>\n",
       "      <td>NaN</td>\n",
       "      <td>NaN</td>\n",
       "      <td>NaN</td>\n",
       "      <td>7.35</td>\n",
       "    </tr>\n",
       "    <tr>\n",
       "      <th>1</th>\n",
       "      <td>2.065556</td>\n",
       "      <td>NaN</td>\n",
       "      <td>NaN</td>\n",
       "      <td>NaN</td>\n",
       "      <td>NaN</td>\n",
       "      <td>NaN</td>\n",
       "      <td>NaN</td>\n",
       "      <td>NaN</td>\n",
       "      <td>182.0</td>\n",
       "      <td>NaN</td>\n",
       "      <td>NaN</td>\n",
       "      <td>NaN</td>\n",
       "      <td>NaN</td>\n",
       "      <td>NaN</td>\n",
       "      <td>NaN</td>\n",
       "      <td>NaN</td>\n",
       "      <td>NaN</td>\n",
       "      <td>7.34</td>\n",
       "    </tr>\n",
       "    <tr>\n",
       "      <th>2</th>\n",
       "      <td>2.865556</td>\n",
       "      <td>NaN</td>\n",
       "      <td>NaN</td>\n",
       "      <td>NaN</td>\n",
       "      <td>NaN</td>\n",
       "      <td>NaN</td>\n",
       "      <td>NaN</td>\n",
       "      <td>NaN</td>\n",
       "      <td>194.0</td>\n",
       "      <td>NaN</td>\n",
       "      <td>NaN</td>\n",
       "      <td>NaN</td>\n",
       "      <td>NaN</td>\n",
       "      <td>NaN</td>\n",
       "      <td>NaN</td>\n",
       "      <td>NaN</td>\n",
       "      <td>NaN</td>\n",
       "      <td>7.37</td>\n",
       "    </tr>\n",
       "    <tr>\n",
       "      <th>3</th>\n",
       "      <td>3.232222</td>\n",
       "      <td>NaN</td>\n",
       "      <td>NaN</td>\n",
       "      <td>0.5</td>\n",
       "      <td>NaN</td>\n",
       "      <td>NaN</td>\n",
       "      <td>NaN</td>\n",
       "      <td>NaN</td>\n",
       "      <td>NaN</td>\n",
       "      <td>NaN</td>\n",
       "      <td>NaN</td>\n",
       "      <td>NaN</td>\n",
       "      <td>NaN</td>\n",
       "      <td>NaN</td>\n",
       "      <td>NaN</td>\n",
       "      <td>NaN</td>\n",
       "      <td>NaN</td>\n",
       "      <td>NaN</td>\n",
       "    </tr>\n",
       "    <tr>\n",
       "      <th>4</th>\n",
       "      <td>3.732222</td>\n",
       "      <td>NaN</td>\n",
       "      <td>NaN</td>\n",
       "      <td>0.5</td>\n",
       "      <td>NaN</td>\n",
       "      <td>NaN</td>\n",
       "      <td>NaN</td>\n",
       "      <td>NaN</td>\n",
       "      <td>NaN</td>\n",
       "      <td>NaN</td>\n",
       "      <td>NaN</td>\n",
       "      <td>NaN</td>\n",
       "      <td>NaN</td>\n",
       "      <td>16.0</td>\n",
       "      <td>NaN</td>\n",
       "      <td>NaN</td>\n",
       "      <td>NaN</td>\n",
       "      <td>NaN</td>\n",
       "    </tr>\n",
       "    <tr>\n",
       "      <th>...</th>\n",
       "      <td>...</td>\n",
       "      <td>...</td>\n",
       "      <td>...</td>\n",
       "      <td>...</td>\n",
       "      <td>...</td>\n",
       "      <td>...</td>\n",
       "      <td>...</td>\n",
       "      <td>...</td>\n",
       "      <td>...</td>\n",
       "      <td>...</td>\n",
       "      <td>...</td>\n",
       "      <td>...</td>\n",
       "      <td>...</td>\n",
       "      <td>...</td>\n",
       "      <td>...</td>\n",
       "      <td>...</td>\n",
       "      <td>...</td>\n",
       "      <td>...</td>\n",
       "    </tr>\n",
       "    <tr>\n",
       "      <th>84</th>\n",
       "      <td>44.232222</td>\n",
       "      <td>NaN</td>\n",
       "      <td>59.0</td>\n",
       "      <td>0.4</td>\n",
       "      <td>None</td>\n",
       "      <td>Abnormal extension</td>\n",
       "      <td>NaN</td>\n",
       "      <td>No Response-ETT</td>\n",
       "      <td>NaN</td>\n",
       "      <td>92.0</td>\n",
       "      <td>NaN</td>\n",
       "      <td>74.0</td>\n",
       "      <td>100.0</td>\n",
       "      <td>24.0</td>\n",
       "      <td>107.0</td>\n",
       "      <td>NaN</td>\n",
       "      <td>NaN</td>\n",
       "      <td>NaN</td>\n",
       "    </tr>\n",
       "    <tr>\n",
       "      <th>85</th>\n",
       "      <td>45.232222</td>\n",
       "      <td>NaN</td>\n",
       "      <td>60.0</td>\n",
       "      <td>NaN</td>\n",
       "      <td>None</td>\n",
       "      <td>Abnormal extension</td>\n",
       "      <td>NaN</td>\n",
       "      <td>No Response-ETT</td>\n",
       "      <td>NaN</td>\n",
       "      <td>93.0</td>\n",
       "      <td>NaN</td>\n",
       "      <td>74.0</td>\n",
       "      <td>100.0</td>\n",
       "      <td>19.0</td>\n",
       "      <td>109.0</td>\n",
       "      <td>35.833333</td>\n",
       "      <td>NaN</td>\n",
       "      <td>NaN</td>\n",
       "    </tr>\n",
       "    <tr>\n",
       "      <th>86</th>\n",
       "      <td>46.232222</td>\n",
       "      <td>NaN</td>\n",
       "      <td>60.0</td>\n",
       "      <td>NaN</td>\n",
       "      <td>None</td>\n",
       "      <td>Abnormal extension</td>\n",
       "      <td>NaN</td>\n",
       "      <td>No Response-ETT</td>\n",
       "      <td>NaN</td>\n",
       "      <td>90.0</td>\n",
       "      <td>NaN</td>\n",
       "      <td>77.0</td>\n",
       "      <td>100.0</td>\n",
       "      <td>19.0</td>\n",
       "      <td>114.0</td>\n",
       "      <td>NaN</td>\n",
       "      <td>NaN</td>\n",
       "      <td>NaN</td>\n",
       "    </tr>\n",
       "    <tr>\n",
       "      <th>87</th>\n",
       "      <td>46.665556</td>\n",
       "      <td>NaN</td>\n",
       "      <td>NaN</td>\n",
       "      <td>NaN</td>\n",
       "      <td>NaN</td>\n",
       "      <td>NaN</td>\n",
       "      <td>NaN</td>\n",
       "      <td>NaN</td>\n",
       "      <td>NaN</td>\n",
       "      <td>NaN</td>\n",
       "      <td>NaN</td>\n",
       "      <td>NaN</td>\n",
       "      <td>NaN</td>\n",
       "      <td>NaN</td>\n",
       "      <td>NaN</td>\n",
       "      <td>NaN</td>\n",
       "      <td>NaN</td>\n",
       "      <td>7.42</td>\n",
       "    </tr>\n",
       "    <tr>\n",
       "      <th>88</th>\n",
       "      <td>47.232222</td>\n",
       "      <td>NaN</td>\n",
       "      <td>56.0</td>\n",
       "      <td>NaN</td>\n",
       "      <td>None</td>\n",
       "      <td>Abnormal extension</td>\n",
       "      <td>NaN</td>\n",
       "      <td>No Response</td>\n",
       "      <td>NaN</td>\n",
       "      <td>95.0</td>\n",
       "      <td>NaN</td>\n",
       "      <td>70.0</td>\n",
       "      <td>100.0</td>\n",
       "      <td>18.0</td>\n",
       "      <td>101.0</td>\n",
       "      <td>36.166667</td>\n",
       "      <td>NaN</td>\n",
       "      <td>NaN</td>\n",
       "    </tr>\n",
       "  </tbody>\n",
       "</table>\n",
       "<p>89 rows × 18 columns</p>\n",
       "</div>"
      ],
      "text/plain": [
       "        Hours  Capillary refill rate  Diastolic blood pressure  \\\n",
       "0    0.865556                    NaN                       NaN   \n",
       "1    2.065556                    NaN                       NaN   \n",
       "2    2.865556                    NaN                       NaN   \n",
       "3    3.232222                    NaN                       NaN   \n",
       "4    3.732222                    NaN                       NaN   \n",
       "..        ...                    ...                       ...   \n",
       "84  44.232222                    NaN                      59.0   \n",
       "85  45.232222                    NaN                      60.0   \n",
       "86  46.232222                    NaN                      60.0   \n",
       "87  46.665556                    NaN                       NaN   \n",
       "88  47.232222                    NaN                      56.0   \n",
       "\n",
       "    Fraction inspired oxygen Glascow coma scale eye opening  \\\n",
       "0                        NaN                            NaN   \n",
       "1                        NaN                            NaN   \n",
       "2                        NaN                            NaN   \n",
       "3                        0.5                            NaN   \n",
       "4                        0.5                            NaN   \n",
       "..                       ...                            ...   \n",
       "84                       0.4                           None   \n",
       "85                       NaN                           None   \n",
       "86                       NaN                           None   \n",
       "87                       NaN                            NaN   \n",
       "88                       NaN                           None   \n",
       "\n",
       "   Glascow coma scale motor response  Glascow coma scale total  \\\n",
       "0                                NaN                       NaN   \n",
       "1                                NaN                       NaN   \n",
       "2                                NaN                       NaN   \n",
       "3                                NaN                       NaN   \n",
       "4                                NaN                       NaN   \n",
       "..                               ...                       ...   \n",
       "84                Abnormal extension                       NaN   \n",
       "85                Abnormal extension                       NaN   \n",
       "86                Abnormal extension                       NaN   \n",
       "87                               NaN                       NaN   \n",
       "88                Abnormal extension                       NaN   \n",
       "\n",
       "   Glascow coma scale verbal response  Glucose  Heart Rate  Height  \\\n",
       "0                                 NaN    255.0         NaN     NaN   \n",
       "1                                 NaN    182.0         NaN     NaN   \n",
       "2                                 NaN    194.0         NaN     NaN   \n",
       "3                                 NaN      NaN         NaN     NaN   \n",
       "4                                 NaN      NaN         NaN     NaN   \n",
       "..                                ...      ...         ...     ...   \n",
       "84                    No Response-ETT      NaN        92.0     NaN   \n",
       "85                    No Response-ETT      NaN        93.0     NaN   \n",
       "86                    No Response-ETT      NaN        90.0     NaN   \n",
       "87                                NaN      NaN         NaN     NaN   \n",
       "88                        No Response      NaN        95.0     NaN   \n",
       "\n",
       "    Mean blood pressure  Oxygen saturation  Respiratory rate  \\\n",
       "0                   NaN                NaN               NaN   \n",
       "1                   NaN                NaN               NaN   \n",
       "2                   NaN                NaN               NaN   \n",
       "3                   NaN                NaN               NaN   \n",
       "4                   NaN                NaN              16.0   \n",
       "..                  ...                ...               ...   \n",
       "84                 74.0              100.0              24.0   \n",
       "85                 74.0              100.0              19.0   \n",
       "86                 77.0              100.0              19.0   \n",
       "87                  NaN                NaN               NaN   \n",
       "88                 70.0              100.0              18.0   \n",
       "\n",
       "    Systolic blood pressure  Temperature  Weight    pH  \n",
       "0                       NaN          NaN     NaN  7.35  \n",
       "1                       NaN          NaN     NaN  7.34  \n",
       "2                       NaN          NaN     NaN  7.37  \n",
       "3                       NaN          NaN     NaN   NaN  \n",
       "4                       NaN          NaN     NaN   NaN  \n",
       "..                      ...          ...     ...   ...  \n",
       "84                    107.0          NaN     NaN   NaN  \n",
       "85                    109.0    35.833333     NaN   NaN  \n",
       "86                    114.0          NaN     NaN   NaN  \n",
       "87                      NaN          NaN     NaN  7.42  \n",
       "88                    101.0    36.166667     NaN   NaN  \n",
       "\n",
       "[89 rows x 18 columns]"
      ]
     },
     "execution_count": 40,
     "metadata": {},
     "output_type": "execute_result"
    }
   ],
   "source": [
    "import os\n",
    "os.getcwd()\n",
    "root = '/Users/drew/Desktop/Walsh_Lab/lab_projects/CV_Tutorial/mimic3-Original/data/in-hospital-mortality/train/'\n",
    "for file in os.listdir(root)[1:5]:\n",
    "    print(root + file)\n",
    "    df = pd.read_csv(root+file)\n",
    "df"
   ]
  },
  {
   "cell_type": "code",
   "execution_count": 43,
   "id": "d7da8b65",
   "metadata": {
    "ExecuteTime": {
     "end_time": "2022-09-21T19:35:03.174511Z",
     "start_time": "2022-09-21T19:35:03.145945Z"
    }
   },
   "outputs": [
    {
     "ename": "ValueError",
     "evalue": "Cannot use mean strategy with non-numeric data:\ncould not convert string to float: 'None'",
     "output_type": "error",
     "traceback": [
      "\u001b[0;31m---------------------------------------------------------------------------\u001b[0m",
      "\u001b[0;31mValueError\u001b[0m                                Traceback (most recent call last)",
      "\u001b[0;32m/var/folders/9h/6316sx057ng37709457fgymr0000gn/T/ipykernel_31294/4084907612.py\u001b[0m in \u001b[0;36m<module>\u001b[0;34m\u001b[0m\n\u001b[1;32m      1\u001b[0m \u001b[0;32mfrom\u001b[0m \u001b[0msklearn\u001b[0m\u001b[0;34m.\u001b[0m\u001b[0mimpute\u001b[0m \u001b[0;32mimport\u001b[0m \u001b[0mSimpleImputer\u001b[0m\u001b[0;34m,\u001b[0m \u001b[0mKNNImputer\u001b[0m\u001b[0;34m\u001b[0m\u001b[0;34m\u001b[0m\u001b[0m\n\u001b[1;32m      2\u001b[0m \u001b[0mimputer\u001b[0m \u001b[0;34m=\u001b[0m \u001b[0mSimpleImputer\u001b[0m\u001b[0;34m(\u001b[0m\u001b[0mfill_value\u001b[0m\u001b[0;34m=\u001b[0m\u001b[0;34m'median'\u001b[0m\u001b[0;34m)\u001b[0m\u001b[0;34m\u001b[0m\u001b[0;34m\u001b[0m\u001b[0m\n\u001b[0;32m----> 3\u001b[0;31m \u001b[0mimputer\u001b[0m\u001b[0;34m.\u001b[0m\u001b[0mfit_transform\u001b[0m\u001b[0;34m(\u001b[0m\u001b[0mdf\u001b[0m\u001b[0;34m)\u001b[0m\u001b[0;34m\u001b[0m\u001b[0;34m\u001b[0m\u001b[0m\n\u001b[0m",
      "\u001b[0;32m~/opt/anaconda3/lib/python3.8/site-packages/sklearn/base.py\u001b[0m in \u001b[0;36mfit_transform\u001b[0;34m(self, X, y, **fit_params)\u001b[0m\n\u001b[1;32m    865\u001b[0m         \u001b[0;32mif\u001b[0m \u001b[0my\u001b[0m \u001b[0;32mis\u001b[0m \u001b[0;32mNone\u001b[0m\u001b[0;34m:\u001b[0m\u001b[0;34m\u001b[0m\u001b[0;34m\u001b[0m\u001b[0m\n\u001b[1;32m    866\u001b[0m             \u001b[0;31m# fit method of arity 1 (unsupervised transformation)\u001b[0m\u001b[0;34m\u001b[0m\u001b[0;34m\u001b[0m\u001b[0;34m\u001b[0m\u001b[0m\n\u001b[0;32m--> 867\u001b[0;31m             \u001b[0;32mreturn\u001b[0m \u001b[0mself\u001b[0m\u001b[0;34m.\u001b[0m\u001b[0mfit\u001b[0m\u001b[0;34m(\u001b[0m\u001b[0mX\u001b[0m\u001b[0;34m,\u001b[0m \u001b[0;34m**\u001b[0m\u001b[0mfit_params\u001b[0m\u001b[0;34m)\u001b[0m\u001b[0;34m.\u001b[0m\u001b[0mtransform\u001b[0m\u001b[0;34m(\u001b[0m\u001b[0mX\u001b[0m\u001b[0;34m)\u001b[0m\u001b[0;34m\u001b[0m\u001b[0;34m\u001b[0m\u001b[0m\n\u001b[0m\u001b[1;32m    868\u001b[0m         \u001b[0;32melse\u001b[0m\u001b[0;34m:\u001b[0m\u001b[0;34m\u001b[0m\u001b[0;34m\u001b[0m\u001b[0m\n\u001b[1;32m    869\u001b[0m             \u001b[0;31m# fit method of arity 2 (supervised transformation)\u001b[0m\u001b[0;34m\u001b[0m\u001b[0;34m\u001b[0m\u001b[0;34m\u001b[0m\u001b[0m\n",
      "\u001b[0;32m~/opt/anaconda3/lib/python3.8/site-packages/sklearn/impute/_base.py\u001b[0m in \u001b[0;36mfit\u001b[0;34m(self, X, y)\u001b[0m\n\u001b[1;32m    343\u001b[0m             )\n\u001b[1;32m    344\u001b[0m \u001b[0;34m\u001b[0m\u001b[0m\n\u001b[0;32m--> 345\u001b[0;31m         \u001b[0mX\u001b[0m \u001b[0;34m=\u001b[0m \u001b[0mself\u001b[0m\u001b[0;34m.\u001b[0m\u001b[0m_validate_input\u001b[0m\u001b[0;34m(\u001b[0m\u001b[0mX\u001b[0m\u001b[0;34m,\u001b[0m \u001b[0min_fit\u001b[0m\u001b[0;34m=\u001b[0m\u001b[0;32mTrue\u001b[0m\u001b[0;34m)\u001b[0m\u001b[0;34m\u001b[0m\u001b[0;34m\u001b[0m\u001b[0m\n\u001b[0m\u001b[1;32m    346\u001b[0m \u001b[0;34m\u001b[0m\u001b[0m\n\u001b[1;32m    347\u001b[0m         \u001b[0;31m# default fill_value is 0 for numerical input and \"missing_value\"\u001b[0m\u001b[0;34m\u001b[0m\u001b[0;34m\u001b[0m\u001b[0;34m\u001b[0m\u001b[0m\n",
      "\u001b[0;32m~/opt/anaconda3/lib/python3.8/site-packages/sklearn/impute/_base.py\u001b[0m in \u001b[0;36m_validate_input\u001b[0;34m(self, X, in_fit)\u001b[0m\n\u001b[1;32m    300\u001b[0m                     )\n\u001b[1;32m    301\u001b[0m                 )\n\u001b[0;32m--> 302\u001b[0;31m                 \u001b[0;32mraise\u001b[0m \u001b[0mnew_ve\u001b[0m \u001b[0;32mfrom\u001b[0m \u001b[0;32mNone\u001b[0m\u001b[0;34m\u001b[0m\u001b[0;34m\u001b[0m\u001b[0m\n\u001b[0m\u001b[1;32m    303\u001b[0m             \u001b[0;32melse\u001b[0m\u001b[0;34m:\u001b[0m\u001b[0;34m\u001b[0m\u001b[0;34m\u001b[0m\u001b[0m\n\u001b[1;32m    304\u001b[0m                 \u001b[0;32mraise\u001b[0m \u001b[0mve\u001b[0m\u001b[0;34m\u001b[0m\u001b[0;34m\u001b[0m\u001b[0m\n",
      "\u001b[0;31mValueError\u001b[0m: Cannot use mean strategy with non-numeric data:\ncould not convert string to float: 'None'"
     ]
    }
   ],
   "source": [
    "from sklearn.impute import SimpleImputer, KNNImputer\n",
    "imputer = SimpleImputer(fill_value='median')\n",
    "imputer.fit_transform(df)"
   ]
  }
 ],
 "metadata": {
  "kernelspec": {
   "display_name": "Python 3 (ipykernel)",
   "language": "python",
   "name": "python3"
  },
  "language_info": {
   "codemirror_mode": {
    "name": "ipython",
    "version": 3
   },
   "file_extension": ".py",
   "mimetype": "text/x-python",
   "name": "python",
   "nbconvert_exporter": "python",
   "pygments_lexer": "ipython3",
   "version": "3.8.3"
  },
  "latex_envs": {
   "LaTeX_envs_menu_present": true,
   "autoclose": false,
   "autocomplete": true,
   "bibliofile": "biblio.bib",
   "cite_by": "apalike",
   "current_citInitial": 1,
   "eqLabelWithNumbers": true,
   "eqNumInitial": 1,
   "hotkeys": {
    "equation": "Ctrl-E",
    "itemize": "Ctrl-I"
   },
   "labels_anchors": false,
   "latex_user_defs": false,
   "report_style_numbering": false,
   "user_envs_cfg": false
  }
 },
 "nbformat": 4,
 "nbformat_minor": 5
}
