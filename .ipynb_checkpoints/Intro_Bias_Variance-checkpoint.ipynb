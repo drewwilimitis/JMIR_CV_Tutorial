{
 "cells": [
  {
   "cell_type": "markdown",
   "id": "19541fe7",
   "metadata": {},
   "source": [
    "# Part 1.) Intro to Bias & Variance in Model Prediction"
   ]
  },
  {
   "cell_type": "code",
   "execution_count": 5,
   "id": "79741332",
   "metadata": {
    "ExecuteTime": {
     "end_time": "2022-06-28T12:43:07.100691Z",
     "start_time": "2022-06-28T12:43:07.094442Z"
    }
   },
   "outputs": [],
   "source": [
    "# load models for plotting\n",
    "import matplotlib as plt\n",
    "import seaborn as sns\n",
    "from jupyterthemes import jtplot\n",
    "jtplot.style(theme='monokai', context='notebook', ticks=True, grid=False)"
   ]
  },
  {
   "cell_type": "code",
   "execution_count": 11,
   "id": "b34e3576",
   "metadata": {
    "ExecuteTime": {
     "end_time": "2022-06-28T13:38:38.067644Z",
     "start_time": "2022-06-28T13:38:37.832078Z"
    }
   },
   "outputs": [
    {
     "name": "stdout",
     "output_type": "stream",
     "text": [
      "['default', 'emacs', 'friendly', 'colorful', 'autumn', 'murphy', 'manni', 'material', 'monokai', 'perldoc', 'pastie', 'borland', 'trac', 'native', 'fruity', 'bw', 'vim', 'vs', 'tango', 'rrt', 'xcode', 'igor', 'paraiso-light', 'paraiso-dark', 'lovelace', 'algol', 'algol_nu', 'arduino', 'rainbow_dash', 'abap', 'solarized-dark', 'solarized-light', 'sas', 'stata', 'stata-light', 'stata-dark', 'inkpot', 'zenburn', 'gruvbox-dark', 'gruvbox-light']\n"
     ]
    }
   ],
   "source": [
    "from pygments.styles import get_all_styles\n",
    "print(list(get_all_styles()))"
   ]
  },
  {
   "cell_type": "markdown",
   "id": "efa29f7d",
   "metadata": {
    "ExecuteTime": {
     "end_time": "2022-06-28T13:00:13.661552Z",
     "start_time": "2022-06-28T13:00:13.648049Z"
    }
   },
   "source": [
    "$$Error(x)=(E[ \n",
    "f\n",
    "​\n",
    " (x)]−f(x)) \n",
    "2\n",
    " +E[( \n",
    "f\n",
    "​\n",
    " (x)−E[ \n",
    "f\n",
    "​\n",
    " (x)]) \n",
    "2\n",
    " ]+Noise$$"
   ]
  }
 ],
 "metadata": {
  "kernelspec": {
   "display_name": "Python 3 (ipykernel)",
   "language": "python",
   "name": "python3"
  },
  "language_info": {
   "codemirror_mode": {
    "name": "ipython",
    "version": 3
   },
   "file_extension": ".py",
   "mimetype": "text/x-python",
   "name": "python",
   "nbconvert_exporter": "python",
   "pygments_lexer": "ipython3",
   "version": "3.8.3"
  }
 },
 "nbformat": 4,
 "nbformat_minor": 5
}
